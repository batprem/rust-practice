{
 "cells": [
  {
   "cell_type": "code",
   "execution_count": 3,
   "id": "8e3381a2",
   "metadata": {},
   "outputs": [
    {
     "name": "stdout",
     "output_type": "stream",
     "text": [
      "test\n"
     ]
    }
   ],
   "source": [
    "print(\"test\")"
   ]
  },
  {
   "cell_type": "code",
   "execution_count": 5,
   "id": "65841ad2",
   "metadata": {},
   "outputs": [
    {
     "name": "stdout",
     "output_type": "stream",
     "text": [
      "Collecting dependency-injector\n",
      "  Downloading dependency_injector-4.41.0-pp38-pypy38_pp73-macosx_10_9_x86_64.whl (578 kB)\n",
      "\u001b[2K     \u001b[38;2;114;156;31m━━━━━━━━━━━━━━━━━━━━━━━━━━━━━━━━━━━━━━━\u001b[0m \u001b[32m578.9/578.9 kB\u001b[0m \u001b[31m4.8 MB/s\u001b[0m eta \u001b[36m0:00:00\u001b[0m MB/s\u001b[0m eta \u001b[36m0:00:01\u001b[0m:01\u001b[0m\n",
      "\u001b[?25hRequirement already satisfied: six<=1.16.0,>=1.7.0 in /Users/prem/miniconda3/envs/umt/lib/python3.8/site-packages (from dependency-injector) (1.16.0)\n",
      "Installing collected packages: dependency-injector\n",
      "Successfully installed dependency-injector-4.41.0\n"
     ]
    }
   ],
   "source": [
    "!pip install dependency-injector"
   ]
  },
  {
   "cell_type": "code",
   "execution_count": 6,
   "id": "6e85f340",
   "metadata": {},
   "outputs": [
    {
     "ename": "NameError",
     "evalue": "name 'ApiClient' is not defined",
     "output_type": "error",
     "traceback": [
      "\u001b[0;31m---------------------------------------------------------------------------\u001b[0m",
      "\u001b[0;31mNameError\u001b[0m                                 Traceback (most recent call last)",
      "Cell \u001b[0;32mIn[6], line 5\u001b[0m\n\u001b[1;32m      1\u001b[0m \u001b[38;5;28;01mfrom\u001b[39;00m \u001b[38;5;21;01mdependency_injector\u001b[39;00m \u001b[38;5;28;01mimport\u001b[39;00m containers, providers\n\u001b[1;32m      2\u001b[0m \u001b[38;5;28;01mfrom\u001b[39;00m \u001b[38;5;21;01mdependency_injector\u001b[39;00m\u001b[38;5;21;01m.\u001b[39;00m\u001b[38;5;21;01mwiring\u001b[39;00m \u001b[38;5;28;01mimport\u001b[39;00m Provide, inject\n\u001b[0;32m----> 5\u001b[0m \u001b[38;5;28;01mclass\u001b[39;00m \u001b[38;5;21;01mContainer\u001b[39;00m(containers\u001b[38;5;241m.\u001b[39mDeclarativeContainer):\n\u001b[1;32m      7\u001b[0m     config \u001b[38;5;241m=\u001b[39m providers\u001b[38;5;241m.\u001b[39mConfiguration()\n\u001b[1;32m      9\u001b[0m     api_client \u001b[38;5;241m=\u001b[39m providers\u001b[38;5;241m.\u001b[39mSingleton(\n\u001b[1;32m     10\u001b[0m         ApiClient,\n\u001b[1;32m     11\u001b[0m         api_key\u001b[38;5;241m=\u001b[39mconfig\u001b[38;5;241m.\u001b[39mapi_key,\n\u001b[1;32m     12\u001b[0m         timeout\u001b[38;5;241m=\u001b[39mconfig\u001b[38;5;241m.\u001b[39mtimeout,\n\u001b[1;32m     13\u001b[0m     )\n",
      "Cell \u001b[0;32mIn[6], line 10\u001b[0m, in \u001b[0;36mContainer\u001b[0;34m(***failed resolving arguments***)\u001b[0m\n\u001b[1;32m      5\u001b[0m \u001b[38;5;28;01mclass\u001b[39;00m \u001b[38;5;21;01mContainer\u001b[39;00m(containers\u001b[38;5;241m.\u001b[39mDeclarativeContainer):\n\u001b[1;32m      7\u001b[0m     config \u001b[38;5;241m=\u001b[39m providers\u001b[38;5;241m.\u001b[39mConfiguration()\n\u001b[1;32m      9\u001b[0m     api_client \u001b[38;5;241m=\u001b[39m providers\u001b[38;5;241m.\u001b[39mSingleton(\n\u001b[0;32m---> 10\u001b[0m         \u001b[43mApiClient\u001b[49m,\n\u001b[1;32m     11\u001b[0m         api_key\u001b[38;5;241m=\u001b[39mconfig\u001b[38;5;241m.\u001b[39mapi_key,\n\u001b[1;32m     12\u001b[0m         timeout\u001b[38;5;241m=\u001b[39mconfig\u001b[38;5;241m.\u001b[39mtimeout,\n\u001b[1;32m     13\u001b[0m     )\n\u001b[1;32m     15\u001b[0m     service \u001b[38;5;241m=\u001b[39m providers\u001b[38;5;241m.\u001b[39mFactory(\n\u001b[1;32m     16\u001b[0m         Service,\n\u001b[1;32m     17\u001b[0m         api_client\u001b[38;5;241m=\u001b[39mapi_client,\n\u001b[1;32m     18\u001b[0m     )\n",
      "\u001b[0;31mNameError\u001b[0m: name 'ApiClient' is not defined"
     ]
    }
   ],
   "source": [
    "from dependency_injector import containers, providers\n",
    "from dependency_injector.wiring import Provide, inject\n",
    "\n",
    "\n",
    "class Container(containers.DeclarativeContainer):\n",
    "\n",
    "    config = providers.Configuration()\n",
    "\n",
    "    api_client = providers.Singleton(\n",
    "        ApiClient,\n",
    "        api_key=config.api_key,\n",
    "        timeout=config.timeout,\n",
    "    )\n",
    "\n",
    "    service = providers.Factory(\n",
    "        Service,\n",
    "        api_client=api_client,\n",
    "    )\n",
    "\n",
    "\n",
    "@inject\n",
    "def main(service: Service = Provide[Container.service]) -> None:\n",
    "    ...\n",
    "\n",
    "\n",
    "if __name__ == \"__main__\":\n",
    "    container = Container()\n",
    "    container.config.api_key.from_env(\"API_KEY\", required=True)\n",
    "    container.config.timeout.from_env(\"TIMEOUT\", as_=int, default=5)\n",
    "    container.wire(modules=[__name__])\n",
    "\n",
    "    main()  # <-- dependency is injected automatically\n",
    "\n",
    "    with container.api_client.override(mock.Mock()):\n",
    "        main()  # <-- overridden dependency is injected automatically"
   ]
  }
 ],
 "metadata": {
  "kernelspec": {
   "display_name": "Python 3 (ipykernel)",
   "language": "python",
   "name": "python3"
  },
  "language_info": {
   "codemirror_mode": {
    "name": "ipython",
    "version": 3
   },
   "file_extension": ".py",
   "mimetype": "text/x-python",
   "name": "python",
   "nbconvert_exporter": "python",
   "pygments_lexer": "ipython3",
   "version": "3.8.16"
  }
 },
 "nbformat": 4,
 "nbformat_minor": 5
}
